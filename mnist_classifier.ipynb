{
 "cells": [
  {
   "cell_type": "markdown",
   "id": "dfa5ebac6a488ce0",
   "metadata": {
    "collapsed": false
   },
   "source": [
    "## POLYNOMIAL"
   ]
  },
  {
   "cell_type": "code",
   "execution_count": null,
   "id": "8a4e788b8582eef2",
   "metadata": {
    "collapsed": false
   },
   "outputs": [],
   "source": [
    "# testing GPU on a polynomial model with torch-gpu  \n",
    "import torch\n",
    "import torch.nn"
   ]
  },
  {
   "cell_type": "code",
   "execution_count": 114,
   "id": "b23e09950f24c9a",
   "metadata": {
    "ExecuteTime": {
     "end_time": "2024-03-24T04:43:54.437029600Z",
     "start_time": "2024-03-24T04:43:54.420471Z"
    },
    "collapsed": false
   },
   "outputs": [],
   "source": [
    "class polynomial(torch.nn.Module):\n",
    "    def __init__(self):\n",
    "        super().__init__()\n",
    "        self.a=torch.nn.Parameter(torch.randn(1))\n",
    "        self.b=torch.nn.Parameter(torch.randn(1))\n",
    "        self.c=torch.nn.Parameter(torch.randn(1))\n",
    "        self.d=torch.nn.Parameter(torch.randn(1))\n",
    "    \n",
    "    def forward(self, x):\n",
    "        return self.a + self.b * x + self.c * x **2 + self.d * x **3\n",
    "    \n",
    "    def string(self):\n",
    "        return f\"y={self.a}+{self.b}x+{self.c}*x^2+{self.d}x^3\"\n",
    "    \n",
    "\n",
    "x=torch.linspace(-torch.math.pi,torch.math.pi,1000).to(device)\n",
    "y=torch.sin(x).to(device)\n",
    "model=polynomial().to(device)\n",
    "criterion=torch.nn.MSELoss(reduction=\"sum\")\n",
    "optimizer=torch.optim.Adam(model.parameters(),lr=1e-3)\n",
    "\n",
    "\n",
    "    \n",
    "\n",
    "\n",
    "\n",
    "\n",
    "        \n",
    "        \n",
    "        \n",
    "        "
   ]
  },
  {
   "cell_type": "code",
   "execution_count": 116,
   "id": "5e31ff360e0632e",
   "metadata": {
    "ExecuteTime": {
     "end_time": "2024-03-24T04:49:36.824293100Z",
     "start_time": "2024-03-24T04:49:28.610862100Z"
    },
    "collapsed": false
   },
   "outputs": [
    {
     "name": "stdout",
     "output_type": "stream",
     "text": [
      "99 6.969268798828125\n",
      "199 6.199727535247803\n",
      "299 5.639310359954834\n",
      "399 5.2392497062683105\n",
      "499 4.959591388702393\n",
      "599 4.768375396728516\n",
      "699 4.640639305114746\n",
      "799 4.557376861572266\n",
      "899 4.5044846534729\n",
      "999 4.47178840637207\n",
      "1099 4.452142715454102\n",
      "1199 4.440690040588379\n",
      "1299 4.434223175048828\n",
      "1399 4.430689811706543\n",
      "1499 4.428827285766602\n",
      "1599 4.42788028717041\n",
      "1699 4.427418231964111\n",
      "1799 4.427201747894287\n",
      "1899 4.427104473114014\n",
      "1999 4.42706298828125\n",
      "2099 4.427045822143555\n",
      "2199 4.427040100097656\n",
      "2299 4.427036762237549\n",
      "2399 4.427035808563232\n",
      "2499 4.427035331726074\n",
      "2599 4.427035331726074\n",
      "2699 4.427035808563232\n",
      "2799 4.427036285400391\n",
      "2899 4.427035331726074\n",
      "2999 4.427035331726074\n",
      "3099 4.427035331726074\n",
      "3199 4.42704963684082\n",
      "3299 4.427035808563232\n",
      "3399 4.427035331726074\n",
      "3499 4.427035331726074\n",
      "3599 4.427038669586182\n",
      "3699 4.427036285400391\n",
      "3799 4.427036285400391\n",
      "3899 4.427035808563232\n",
      "3999 4.427035331726074\n",
      "4099 4.4272613525390625\n",
      "4199 4.427035331726074\n",
      "4299 4.427035331726074\n",
      "4399 4.427036285400391\n",
      "4499 4.427035331726074\n",
      "4599 4.427035808563232\n",
      "4699 4.427035808563232\n",
      "4799 4.427035808563232\n",
      "4899 4.427037239074707\n",
      "4999 4.427035331726074\n",
      "5099 4.427035808563232\n",
      "5199 4.427035808563232\n",
      "5299 4.427040100097656\n",
      "5399 4.427035331726074\n",
      "5499 4.427035331726074\n",
      "5599 4.427035331726074\n",
      "5699 4.427035808563232\n",
      "5799 4.427036285400391\n",
      "5899 4.427035331726074\n",
      "5999 4.427035331726074\n",
      "6099 4.427036285400391\n",
      "6199 4.427035331726074\n",
      "6299 4.427036762237549\n",
      "6399 4.427035331726074\n",
      "6499 4.427035331726074\n",
      "6599 4.427035808563232\n",
      "6699 4.427035808563232\n",
      "6799 4.427035808563232\n",
      "6899 4.427036285400391\n",
      "6999 4.427035331726074\n",
      "7099 4.4270830154418945\n",
      "7199 4.427036285400391\n",
      "7299 4.427036285400391\n",
      "7399 4.427035808563232\n",
      "7499 4.427036285400391\n",
      "7599 4.427035808563232\n",
      "7699 4.427269458770752\n",
      "7799 4.427035331726074\n",
      "7899 4.427035331726074\n",
      "7999 4.427035331726074\n",
      "8099 4.427035331726074\n",
      "8199 4.427035331726074\n",
      "8299 4.427035331726074\n",
      "8399 4.427045822143555\n",
      "8499 4.427035331726074\n",
      "8599 4.427035331726074\n",
      "8699 4.427035331726074\n",
      "8799 4.427035331726074\n",
      "8899 4.427035331726074\n",
      "8999 4.427035331726074\n",
      "9099 4.427035331726074\n",
      "9199 4.427035331726074\n",
      "9299 4.427035331726074\n",
      "9399 4.427035331726074\n",
      "9499 4.427035331726074\n",
      "9599 4.427035331726074\n",
      "9699 4.427329063415527\n",
      "9799 4.427035331726074\n",
      "9899 4.427035331726074\n",
      "9999 4.427035331726074\n",
      "result y=Parameter containing:\n",
      "tensor([-1.3728e-09], device='cuda:0', requires_grad=True)+Parameter containing:\n",
      "tensor([0.8565], device='cuda:0', requires_grad=True)x+Parameter containing:\n",
      "tensor([-1.4128e-08], device='cuda:0', requires_grad=True)*x^2+Parameter containing:\n",
      "tensor([-0.0933], device='cuda:0', requires_grad=True)x^3\n"
     ]
    }
   ],
   "source": [
    "for epoch in range(10000):\n",
    "    y_pred = model(x)\n",
    "    loss=criterion(y_pred,y)\n",
    "    if epoch % 100==99:\n",
    "        print(epoch,loss.item())\n",
    "    optimizer.zero_grad()\n",
    "    loss.backward()\n",
    "    optimizer.step()\n",
    "        \n",
    "    \n",
    "print(f\"result {model.string()}\")        "
   ]
  },
  {
   "cell_type": "markdown",
   "id": "d9b109ac24383a50",
   "metadata": {
    "collapsed": false
   },
   "source": [
    "## MNIST"
   ]
  },
  {
   "cell_type": "code",
   "execution_count": 165,
   "id": "b0bf85b7de0d08db",
   "metadata": {
    "ExecuteTime": {
     "end_time": "2024-03-24T07:05:22.888072900Z",
     "start_time": "2024-03-24T07:05:22.884455500Z"
    },
    "collapsed": false
   },
   "outputs": [],
   "source": [
    "import torch\n",
    "from torch import nn\n",
    "from torch.utils.data import DataLoader\n",
    "from torchvision import datasets\n",
    "from torchvision.transforms import ToTensor,Normalize,Compose\n",
    "import matplotlib.pyplot as plt "
   ]
  },
  {
   "cell_type": "code",
   "execution_count": 211,
   "id": "3ad0aeac9cbabf06",
   "metadata": {
    "ExecuteTime": {
     "end_time": "2024-03-24T07:47:41.567460600Z",
     "start_time": "2024-03-24T07:47:41.419037700Z"
    },
    "collapsed": false
   },
   "outputs": [],
   "source": [
    "transform=Compose([ToTensor(),Normalize((0.5,), (0.5,))])\n",
    "training_data = datasets.FashionMNIST(root=\"data\",train=True,transform=transform,download=True)\n",
    "validation_data = datasets.FashionMNIST(root=\"data\",train=False,transform=transform,download=True) "
   ]
  },
  {
   "cell_type": "code",
   "execution_count": 212,
   "id": "ba6cf1f5b121d927",
   "metadata": {
    "ExecuteTime": {
     "end_time": "2024-03-24T07:47:42.312269400Z",
     "start_time": "2024-03-24T07:47:42.304863100Z"
    },
    "collapsed": false
   },
   "outputs": [
    {
     "data": {
      "text/plain": [
       "tensor(-1.)"
      ]
     },
     "execution_count": 212,
     "metadata": {},
     "output_type": "execute_result"
    }
   ],
   "source": [
    "training_data.__getitem__(1)[0].min()"
   ]
  },
  {
   "cell_type": "code",
   "execution_count": 227,
   "id": "6a05d4994375d03b",
   "metadata": {
    "ExecuteTime": {
     "end_time": "2024-03-24T07:49:05.072507200Z",
     "start_time": "2024-03-24T07:49:05.049845Z"
    },
    "collapsed": false
   },
   "outputs": [],
   "source": [
    "train_generator=DataLoader(training_data,batch_size=200,shuffle=True)\n",
    "test_generator=DataLoader(validation_data,batch_size=200)"
   ]
  },
  {
   "cell_type": "code",
   "execution_count": 214,
   "id": "d508f9469c684aab",
   "metadata": {
    "ExecuteTime": {
     "end_time": "2024-03-24T07:47:42.827847800Z",
     "start_time": "2024-03-24T07:47:42.680482600Z"
    },
    "collapsed": false
   },
   "outputs": [
    {
     "name": "stdout",
     "output_type": "stream",
     "text": [
      "Shape of X [N, C, H, W]: torch.Size([200, 1, 28, 28])\n",
      "Shape of y: torch.Size([200]) torch.int64\n"
     ]
    },
    {
     "data": {
      "image/png": "[encoded data removed]",
      "text/plain": [
       "<Figure size 640x480 with 1 Axes>"
      ]
     },
     "metadata": {},
     "output_type": "display_data"
    }
   ],
   "source": [
    "for x,y in train_generator:\n",
    "    print(f\"Shape of X [N, C, H, W]: {x.shape}\")\n",
    "    print(f\"Shape of y: {y.shape} {y.dtype}\")\n",
    "    break\n",
    "\n",
    "class_to_idx=training_data.class_to_idx\n",
    "idx_to_class={idx:class_name for class_name,idx in class_to_idx.items()}\n",
    "plt.imshow(x[0].squeeze(0))\n",
    "plt.title(idx_to_class[int(y[0])])\n",
    "plt.tight_layout()"
   ]
  },
  {
   "cell_type": "code",
   "execution_count": 215,
   "id": "44252a0ac71c4751",
   "metadata": {
    "ExecuteTime": {
     "end_time": "2024-03-24T07:47:42.918547200Z",
     "start_time": "2024-03-24T07:47:42.888688600Z"
    },
    "collapsed": false
   },
   "outputs": [
    {
     "data": {
      "text/plain": [
       "{0: 'T-shirt/top',\n",
       " 1: 'Trouser',\n",
       " 2: 'Pullover',\n",
       " 3: 'Dress',\n",
       " 4: 'Coat',\n",
       " 5: 'Sandal',\n",
       " 6: 'Shirt',\n",
       " 7: 'Sneaker',\n",
       " 8: 'Bag',\n",
       " 9: 'Ankle boot'}"
      ]
     },
     "execution_count": 215,
     "metadata": {},
     "output_type": "execute_result"
    }
   ],
   "source": [
    "idx_to_class"
   ]
  },
  {
   "cell_type": "code",
   "execution_count": 216,
   "id": "dc31e3490f977ff3",
   "metadata": {
    "ExecuteTime": {
     "end_time": "2024-03-24T07:47:43.317575200Z",
     "start_time": "2024-03-24T07:47:43.292262200Z"
    },
    "collapsed": false
   },
   "outputs": [
    {
     "data": {
      "text/plain": [
       "{'T-shirt/top': 0,\n",
       " 'Trouser': 1,\n",
       " 'Pullover': 2,\n",
       " 'Dress': 3,\n",
       " 'Coat': 4,\n",
       " 'Sandal': 5,\n",
       " 'Shirt': 6,\n",
       " 'Sneaker': 7,\n",
       " 'Bag': 8,\n",
       " 'Ankle boot': 9}"
      ]
     },
     "execution_count": 216,
     "metadata": {},
     "output_type": "execute_result"
    }
   ],
   "source": [
    "class_to_idx=training_data.class_to_idx\n",
    "class_to_idx"
   ]
  },
  {
   "cell_type": "code",
   "execution_count": 218,
   "id": "5b85385a0ccef03c",
   "metadata": {
    "ExecuteTime": {
     "end_time": "2024-03-24T07:47:49.109076300Z",
     "start_time": "2024-03-24T07:47:49.091877100Z"
    },
    "collapsed": false
   },
   "outputs": [],
   "source": [
    "class NeuralNetwork(torch.nn.Module):\n",
    "    def __init__(self):\n",
    "        super().__init__()\n",
    "        self.conv1=nn.Conv2d(in_channels=1,out_channels=32,kernel_size=3,padding=1)\n",
    "        self.conv2=nn.Conv2d(in_channels=32,out_channels=64,kernel_size=3,padding=1)\n",
    "        self.flatten=nn.Flatten()\n",
    "        self.fc1=nn.Linear(in_features=64*7*7,out_features=128)\n",
    "        self.fc2=nn.Linear(128,10)\n",
    "        \n",
    "    \n",
    "    def forward(self,x):\n",
    "        x=nn.functional.leaky_relu(self.conv1(x),negative_slope=.1)\n",
    "        x=nn.functional.max_pool2d(x,kernel_size=2,stride=2)\n",
    "        x=nn.functional.relu(self.conv2(x))\n",
    "        x=nn.functional.max_pool2d(x,kernel_size=2,stride=2)\n",
    "        x=self.flatten(x)\n",
    "        x=nn.functional.relu(self.fc1(x))\n",
    "        x=self.fc2(x)\n",
    "        return x\n",
    "    \n",
    "model=NeuralNetwork().to(device)       \n",
    "        \n"
   ]
  },
  {
   "cell_type": "code",
   "execution_count": 245,
   "id": "5d245081d1ffec7a",
   "metadata": {
    "ExecuteTime": {
     "end_time": "2024-03-24T08:02:59.847689900Z",
     "start_time": "2024-03-24T08:02:59.832725600Z"
    },
    "collapsed": false
   },
   "outputs": [
    {
     "data": {
      "text/plain": [
       "6"
      ]
     },
     "execution_count": 245,
     "metadata": {},
     "output_type": "execute_result"
    }
   ],
   "source": []
  },
  {
   "cell_type": "code",
   "execution_count": 232,
   "id": "b0fbf9e8d46ad6c0",
   "metadata": {
    "ExecuteTime": {
     "end_time": "2024-03-24T07:59:42.759438900Z",
     "start_time": "2024-03-24T07:59:42.742528400Z"
    },
    "collapsed": false
   },
   "outputs": [
    {
     "data": {
      "text/plain": [
       "NeuralNetwork(\n",
       "  (conv1): Conv2d(1, 32, kernel_size=(3, 3), stride=(1, 1), padding=(1, 1))\n",
       "  (conv2): Conv2d(32, 64, kernel_size=(3, 3), stride=(1, 1), padding=(1, 1))\n",
       "  (flatten): Flatten(start_dim=1, end_dim=-1)\n",
       "  (fc1): Linear(in_features=3136, out_features=128, bias=True)\n",
       "  (fc2): Linear(in_features=128, out_features=10, bias=True)\n",
       ")"
      ]
     },
     "execution_count": 232,
     "metadata": {},
     "output_type": "execute_result"
    }
   ],
   "source": [
    "model"
   ]
  },
  {
   "cell_type": "code",
   "execution_count": 220,
   "id": "94bd7e751a85e6fe",
   "metadata": {
    "ExecuteTime": {
     "end_time": "2024-03-24T07:47:50.447931800Z",
     "start_time": "2024-03-24T07:47:50.440905800Z"
    },
    "collapsed": false
   },
   "outputs": [],
   "source": [
    "criterion=torch.nn.CrossEntropyLoss()\n",
    "optimizer=torch.optim.Adam(model.parameters(),lr=1e-4)"
   ]
  },
  {
   "cell_type": "code",
   "execution_count": 221,
   "id": "b08bdf2c732b3761",
   "metadata": {
    "ExecuteTime": {
     "end_time": "2024-03-24T07:47:51.032169800Z",
     "start_time": "2024-03-24T07:47:51.025576600Z"
    },
    "collapsed": false
   },
   "outputs": [
    {
     "data": {
      "text/plain": [
       "60000"
      ]
     },
     "execution_count": 221,
     "metadata": {},
     "output_type": "execute_result"
    }
   ],
   "source": [
    "size=len(train_generator.dataset)\n",
    "size\n"
   ]
  },
  {
   "cell_type": "code",
   "execution_count": 222,
   "id": "7e855a0ae3527871",
   "metadata": {
    "ExecuteTime": {
     "end_time": "2024-03-24T07:47:51.972423600Z",
     "start_time": "2024-03-24T07:47:51.964585700Z"
    },
    "collapsed": false
   },
   "outputs": [],
   "source": [
    "def train(data_loader,model,criterion,optimizer):\n",
    "    size=len(data_loader.dataset)\n",
    "    num_batches=size//200\n",
    "    model.train()\n",
    "    for batch,(x,y) in enumerate(data_loader):\n",
    "        \n",
    "        pred=model(x)\n",
    "        loss=criterion(pred,y)\n",
    "        loss.backward()\n",
    "        optimizer.step()\n",
    "        optimizer.zero_grad()\n",
    "        if batch % 100 ==0:\n",
    "            print(f\"batch: {batch}/{num_batches} loss: {loss.item()}\")\n",
    "            "
   ]
  },
  {
   "cell_type": "code",
   "execution_count": 223,
   "id": "de13476c0cd2f660",
   "metadata": {
    "ExecuteTime": {
     "end_time": "2024-03-24T07:47:52.958816300Z",
     "start_time": "2024-03-24T07:47:52.952931700Z"
    },
    "collapsed": false
   },
   "outputs": [],
   "source": [
    "def test(data_loader,model,criterion):\n",
    "    size=len(data_loader.dataset)\n",
    "    num_batches=len(data_loader)\n",
    "    model.eval()\n",
    "    test_loss,correct=0,0\n",
    "    with torch.no_grad():\n",
    "        for x,y in data_loader:\n",
    "            x,y=x.to(device),y.to(device)\n",
    "            pred=model(x)\n",
    "            test_loss+=criterion(pred,y).item()\n",
    "            correct+= (pred.argmax(1) == y).type(torch.float).sum().item()\n",
    "    test_loss/=num_batches\n",
    "    correct/=size\n",
    "    print(f\"accuracy: {correct} test_loss at {test_loss} \")\n",
    "        \n",
    "            \n",
    "            "
   ]
  },
  {
   "cell_type": "code",
   "execution_count": 228,
   "id": "61356b9aa8f7662d",
   "metadata": {
    "ExecuteTime": {
     "end_time": "2024-03-24T07:51:33.991489200Z",
     "start_time": "2024-03-24T07:49:12.526543700Z"
    },
    "collapsed": false
   },
   "outputs": [
    {
     "name": "stdout",
     "output_type": "stream",
     "text": [
      "batch: 0/300 loss: 0.44278237223625183\n",
      "batch: 100/300 loss: 0.4943397641181946\n",
      "batch: 200/300 loss: 0.5207823514938354\n",
      "accuracy: 0.8372 test_loss at 0.4611566609144211 \n",
      "batch: 0/300 loss: 0.4322832524776459\n",
      "batch: 100/300 loss: 0.43476545810699463\n",
      "batch: 200/300 loss: 0.30429375171661377\n",
      "accuracy: 0.8495 test_loss at 0.42192032098770144 \n",
      "batch: 0/300 loss: 0.3661339581012726\n",
      "batch: 100/300 loss: 0.2959492802619934\n",
      "batch: 200/300 loss: 0.46886149048805237\n",
      "accuracy: 0.8565 test_loss at 0.39933603644371035 \n",
      "batch: 0/300 loss: 0.3831086754798889\n",
      "batch: 100/300 loss: 0.41292789578437805\n",
      "batch: 200/300 loss: 0.30032581090927124\n",
      "accuracy: 0.866 test_loss at 0.37601468980312347 \n",
      "batch: 0/300 loss: 0.33495885133743286\n",
      "batch: 100/300 loss: 0.4491446018218994\n",
      "batch: 200/300 loss: 0.2653273046016693\n",
      "accuracy: 0.8692 test_loss at 0.3710410124063492 \n",
      "batch: 0/300 loss: 0.29818272590637207\n",
      "batch: 100/300 loss: 0.2703956961631775\n",
      "batch: 200/300 loss: 0.34394320845603943\n",
      "accuracy: 0.8745 test_loss at 0.353290539085865 \n",
      "batch: 0/300 loss: 0.34698623418807983\n",
      "batch: 100/300 loss: 0.31093522906303406\n",
      "batch: 200/300 loss: 0.30907464027404785\n",
      "accuracy: 0.8768 test_loss at 0.3418047860264778 \n",
      "batch: 0/300 loss: 0.33914241194725037\n",
      "batch: 100/300 loss: 0.41210007667541504\n",
      "batch: 200/300 loss: 0.3410775363445282\n",
      "accuracy: 0.8789 test_loss at 0.33213185727596284 \n",
      "batch: 0/300 loss: 0.26358601450920105\n",
      "batch: 100/300 loss: 0.30435776710510254\n",
      "batch: 200/300 loss: 0.26907122135162354\n",
      "accuracy: 0.8826 test_loss at 0.32717214673757555 \n",
      "batch: 0/300 loss: 0.2905954122543335\n",
      "batch: 100/300 loss: 0.33266299962997437\n",
      "batch: 200/300 loss: 0.3349272906780243\n",
      "accuracy: 0.884 test_loss at 0.3175262176990509 \n",
      "batch: 0/300 loss: 0.2240266650915146\n",
      "batch: 100/300 loss: 0.27807268500328064\n",
      "batch: 200/300 loss: 0.25352129340171814\n",
      "accuracy: 0.8873 test_loss at 0.31180488705635073 \n",
      "batch: 0/300 loss: 0.2055027186870575\n",
      "batch: 100/300 loss: 0.2772395610809326\n",
      "batch: 200/300 loss: 0.2620536983013153\n",
      "accuracy: 0.8817 test_loss at 0.3193024438619614 \n",
      "batch: 0/300 loss: 0.26079046726226807\n",
      "batch: 100/300 loss: 0.21869750320911407\n",
      "batch: 200/300 loss: 0.2993759214878082\n",
      "accuracy: 0.8886 test_loss at 0.3047206872701645 \n",
      "batch: 0/300 loss: 0.27549150586128235\n",
      "batch: 100/300 loss: 0.2647450566291809\n",
      "batch: 200/300 loss: 0.22889141738414764\n",
      "accuracy: 0.8912 test_loss at 0.2982251834869385 \n",
      "batch: 0/300 loss: 0.2358623892068863\n",
      "batch: 100/300 loss: 0.17549070715904236\n",
      "batch: 200/300 loss: 0.22381968796253204\n",
      "accuracy: 0.8919 test_loss at 0.29426179677248 \n",
      "batch: 0/300 loss: 0.2496262490749359\n",
      "batch: 100/300 loss: 0.21620437502861023\n",
      "batch: 200/300 loss: 0.2667194604873657\n",
      "accuracy: 0.894 test_loss at 0.287597973048687 \n",
      "batch: 0/300 loss: 0.27266308665275574\n",
      "batch: 100/300 loss: 0.26538926362991333\n",
      "batch: 200/300 loss: 0.24095985293388367\n",
      "accuracy: 0.8956 test_loss at 0.28855171263217927 \n",
      "batch: 0/300 loss: 0.19835740327835083\n",
      "batch: 100/300 loss: 0.20629076659679413\n",
      "batch: 200/300 loss: 0.2445487380027771\n",
      "accuracy: 0.8968 test_loss at 0.28499460458755493 \n",
      "batch: 0/300 loss: 0.20720738172531128\n",
      "batch: 100/300 loss: 0.28983092308044434\n",
      "batch: 200/300 loss: 0.24990315735340118\n",
      "accuracy: 0.899 test_loss at 0.28414721578359603 \n",
      "batch: 0/300 loss: 0.32724010944366455\n",
      "batch: 100/300 loss: 0.2865765690803528\n",
      "batch: 200/300 loss: 0.22234255075454712\n",
      "accuracy: 0.901 test_loss at 0.27766618341207505 \n",
      "done\n"
     ]
    }
   ],
   "source": [
    "epochs=20\n",
    "for epoch in range(epochs):\n",
    "    train(train_generator,criterion=criterion,optimizer=optimizer,model=model)\n",
    "    test(test_generator,criterion=criterion,model=model)\n",
    "print(\"done\")    "
   ]
  },
  {
   "cell_type": "code",
   "execution_count": 231,
   "id": "9bd1a37b5b9f22d4",
   "metadata": {
    "ExecuteTime": {
     "end_time": "2024-03-24T07:56:59.647343600Z",
     "start_time": "2024-03-24T07:56:59.635829300Z"
    },
    "collapsed": false
   },
   "outputs": [],
   "source": [
    "\n",
    "torch.save(model,\"mnist.pth\")"
   ]
  },
  {
   "cell_type": "code",
   "execution_count": null,
   "id": "94f4b841926229e6",
   "metadata": {
    "collapsed": false
   },
   "outputs": [],
   "source": []
  }
 ],
 "metadata": {
  "kernelspec": {
   "display_name": "Python 3",
   "language": "python",
   "name": "python3"
  },
  "language_info": {
   "codemirror_mode": {
    "name": "ipython",
    "version": 2
   },
   "file_extension": ".py",
   "mimetype": "text/x-python",
   "name": "python",
   "nbconvert_exporter": "python",
   "pygments_lexer": "ipython2",
   "version": "2.7.6"
  }
 },
 "nbformat": 4,
 "nbformat_minor": 5
}
